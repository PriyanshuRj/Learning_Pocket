{
 "cells": [
  {
   "cell_type": "markdown",
   "metadata": {},
   "source": [
    "# Base program ocr"
   ]
  },
  {
   "cell_type": "code",
   "execution_count": 1,
   "metadata": {},
   "outputs": [],
   "source": [
    "import tensorflow as tf\n",
    "import tensorflow.keras as K\n",
    "import tensorflow.keras.layers as L\n",
    "import tensorflow.keras.models as M \n",
    "import tensorflow.keras.optimizers as O\n",
    "import tensorflow.keras.preprocessing.image as I"
   ]
  },
  {
   "cell_type": "code",
   "execution_count": 2,
   "metadata": {},
   "outputs": [],
   "source": [
    "def ConvBlock(model, filters, kernel):\n",
    "    model = L.Conv2D(filters, kernel-2, padding=\"same\")(model)\n",
    "    model = L.Conv2D(filters, kernel, padding = \"same\")(model)\n",
    "    model = L.Conv2D(filters, kernel-2, padding=\"same\")(model)\n",
    "    model = L.BatchNormalization()(model)\n",
    "    model = L.LeakyReLU(alpha=0.1)(model)\n",
    "    model = L.MaxPool2D()(model)\n",
    "    \n",
    "    return model"
   ]
  },
  {
   "cell_type": "code",
   "execution_count": 3,
   "metadata": {},
   "outputs": [],
   "source": [
    "def CNN(inp):\n",
    "    inp = L.Input(inp)\n",
    "    x = ConvBlock(inp, 32, 3)\n",
    "    x = ConvBlock(x, 64, 3)\n",
    "    x = L.Flatten()(x)\n",
    "    x = L.Dense(100, activation=\"relu\")(x)\n",
    "    x = L.Dense(36, activation=\"softmax\")(x)\n",
    "\n",
    "    model = M.Model(inputs=inp, outputs=x, name=\"CNN\")\n",
    "    \n",
    "    return model"
   ]
  },
  {
   "cell_type": "code",
   "execution_count": 4,
   "metadata": {},
   "outputs": [],
   "source": [
    "model = CNN((32,32,3))"
   ]
  },
  {
   "cell_type": "code",
   "execution_count": 5,
   "metadata": {},
   "outputs": [
    {
     "name": "stdout",
     "output_type": "stream",
     "text": [
      "Model: \"CNN\"\n",
      "_________________________________________________________________\n",
      " Layer (type)                Output Shape              Param #   \n",
      "=================================================================\n",
      " input_1 (InputLayer)        [(None, 32, 32, 3)]       0         \n",
      "                                                                 \n",
      " conv2d (Conv2D)             (None, 32, 32, 32)        128       \n",
      "                                                                 \n",
      " conv2d_1 (Conv2D)           (None, 32, 32, 32)        9248      \n",
      "                                                                 \n",
      " conv2d_2 (Conv2D)           (None, 32, 32, 32)        1056      \n",
      "                                                                 \n",
      " batch_normalization (BatchN  (None, 32, 32, 32)       128       \n",
      " ormalization)                                                   \n",
      "                                                                 \n",
      " leaky_re_lu (LeakyReLU)     (None, 32, 32, 32)        0         \n",
      "                                                                 \n",
      " max_pooling2d (MaxPooling2D  (None, 16, 16, 32)       0         \n",
      " )                                                               \n",
      "                                                                 \n",
      " conv2d_3 (Conv2D)           (None, 16, 16, 64)        2112      \n",
      "                                                                 \n",
      " conv2d_4 (Conv2D)           (None, 16, 16, 64)        36928     \n",
      "                                                                 \n",
      " conv2d_5 (Conv2D)           (None, 16, 16, 64)        4160      \n",
      "                                                                 \n",
      " batch_normalization_1 (Batc  (None, 16, 16, 64)       256       \n",
      " hNormalization)                                                 \n",
      "                                                                 \n",
      " leaky_re_lu_1 (LeakyReLU)   (None, 16, 16, 64)        0         \n",
      "                                                                 \n",
      " max_pooling2d_1 (MaxPooling  (None, 8, 8, 64)         0         \n",
      " 2D)                                                             \n",
      "                                                                 \n",
      " flatten (Flatten)           (None, 4096)              0         \n",
      "                                                                 \n",
      " dense (Dense)               (None, 100)               409700    \n",
      "                                                                 \n",
      " dense_1 (Dense)             (None, 36)                3636      \n",
      "                                                                 \n",
      "=================================================================\n",
      "Total params: 467,352\n",
      "Trainable params: 467,160\n",
      "Non-trainable params: 192\n",
      "_________________________________________________________________\n"
     ]
    }
   ],
   "source": [
    "model.summary()"
   ]
  },
  {
   "cell_type": "markdown",
   "metadata": {},
   "source": [
    "# Data"
   ]
  },
  {
   "cell_type": "code",
   "execution_count": 6,
   "metadata": {},
   "outputs": [
    {
     "name": "stdout",
     "output_type": "stream",
     "text": [
      "Found 20628 images belonging to 36 classes.\n"
     ]
    }
   ],
   "source": [
    "TRAIN = r\"C:\\Users\\suyash\\Desktop\\trainingData\"\n",
    "clas  = ['0', '1', '2', '3', '4', '5', '6', '7', '8', '9', 'A', 'B', 'C', 'D', 'E', 'F', 'G', 'H', 'I', 'J', 'K', 'L',\n",
    "         'M', 'N', 'O', 'P', 'Q', 'R', 'S', 'T', 'U', 'V', 'W', 'X', 'Y', 'Z']\n",
    "traindata = I.ImageDataGenerator(preprocessing_function=tf.keras.applications.vgg16.preprocess_input)\\\n",
    "            .flow_from_directory(directory=TRAIN, target_size=(32,32), classes=clas,batch_size=100)"
   ]
  },
  {
   "cell_type": "code",
   "execution_count": 7,
   "metadata": {},
   "outputs": [],
   "source": [
    "model.compile(optimizer=O.Adam(learning_rate=0.0001), loss='categorical_crossentropy', metrics=['accuracy'])"
   ]
  },
  {
   "cell_type": "code",
   "execution_count": 9,
   "metadata": {},
   "outputs": [
    {
     "name": "stdout",
     "output_type": "stream",
     "text": [
      "Epoch 1/5\n",
      "207/207 [==============================] - 57s 273ms/step - loss: 0.4547 - accuracy: 0.8990\n",
      "Epoch 2/5\n",
      "207/207 [==============================] - 50s 242ms/step - loss: 0.3011 - accuracy: 0.9288\n",
      "Epoch 3/5\n",
      "207/207 [==============================] - 48s 231ms/step - loss: 0.2319 - accuracy: 0.9427\n",
      "Epoch 4/5\n",
      "207/207 [==============================] - 50s 241ms/step - loss: 0.1836 - accuracy: 0.9527\n",
      "Epoch 5/5\n",
      "207/207 [==============================] - 49s 238ms/step - loss: 0.1554 - accuracy: 0.9592\n"
     ]
    },
    {
     "data": {
      "text/plain": [
       "<keras.callbacks.History at 0x1b2665b2e80>"
      ]
     },
     "execution_count": 9,
     "metadata": {},
     "output_type": "execute_result"
    }
   ],
   "source": [
    "model.fit(traindata, epochs=5, verbose=1)"
   ]
  },
  {
   "cell_type": "code",
   "execution_count": 12,
   "metadata": {},
   "outputs": [],
   "source": [
    "import numpy as np\n",
    "def preprocess(file):\n",
    "    # loc = r'C:/Users/suyash/Desktop\\asl_alphabet_test\\asl_alphabet_test'\n",
    "    img = I.load_img(file, target_size=(32,32))\n",
    "    img_array = I.img_to_array(img)\n",
    "    img_dims = np.expand_dims(img_array, axis=0)\n",
    "    return tf.keras.applications.vgg16.preprocess_input(img_dims)"
   ]
  },
  {
   "cell_type": "code",
   "execution_count": 13,
   "metadata": {},
   "outputs": [
    {
     "data": {
      "text/plain": [
       "0.9989341"
      ]
     },
     "execution_count": 13,
     "metadata": {},
     "output_type": "execute_result"
    }
   ],
   "source": [
    "link = r\"C:\\Users\\suyash\\Desktop\\trainingData\\3\\3.png.png\"\n",
    "img = preprocess(link)\n",
    "max(max(model.predict(img.reshape(-1,32,32,3))))"
   ]
  },
  {
   "cell_type": "code",
   "execution_count": 14,
   "metadata": {},
   "outputs": [],
   "source": [
    "model.save(\"sasa.h5\")"
   ]
  }
 ],
 "metadata": {
  "interpreter": {
   "hash": "8934747c923e747831e0f17a40e9012e1def99ed1de5f3713c68cc42b4047f71"
  },
  "kernelspec": {
   "display_name": "Python 3.9.4 64-bit",
   "language": "python",
   "name": "python3"
  },
  "language_info": {
   "codemirror_mode": {
    "name": "ipython",
    "version": 3
   },
   "file_extension": ".py",
   "mimetype": "text/x-python",
   "name": "python",
   "nbconvert_exporter": "python",
   "pygments_lexer": "ipython3",
   "version": "3.9.4"
  },
  "orig_nbformat": 4
 },
 "nbformat": 4,
 "nbformat_minor": 2
}
